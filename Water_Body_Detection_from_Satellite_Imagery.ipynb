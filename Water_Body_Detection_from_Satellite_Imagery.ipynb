{
  "nbformat": 4,
  "nbformat_minor": 0,
  "metadata": {
    "colab": {
      "provenance": []
    },
    "kernelspec": {
      "name": "python3",
      "display_name": "Python 3"
    },
    "language_info": {
      "name": "python"
    }
  },
  "cells": [
    {
      "cell_type": "code",
      "execution_count": null,
      "metadata": {
        "id": "vASzR4G6Ej_L"
      },
      "outputs": [],
      "source": [
        "pip install gradio numpy rasterio"
      ]
    },
    {
      "cell_type": "code",
      "source": [
        "import gradio as gr\n",
        "import numpy as np\n",
        "import rasterio\n",
        "from rasterio.errors import RasterioIOError\n",
        "\n",
        "def create_false_color_composite(tiff_file: object) -> np.ndarray:\n",
        "    \"\"\"\n",
        "    Generates a false-color composite image from a multi-band TIFF file.\n",
        "\n",
        "    This function reads a satellite image, like one from Landsat 8/9, and uses\n",
        "    bands 7 (SWIR 2), 3 (Green), and 2 (Blue) to create a false-color image.\n",
        "\n",
        "    Args:\n",
        "        tiff_file: A file object from the Gradio interface.\n",
        "\n",
        "    Returns:\n",
        "        A NumPy array representing the 8-bit false-color image.\n",
        "\n",
        "    Raises:\n",
        "        gr.Error: If the file is invalid, can't be read, or doesn't have enough bands.\n",
        "    \"\"\"\n",
        "    if tiff_file is None:\n",
        "        raise gr.Error(\"Please upload a TIFF file.\")\n",
        "\n",
        "    try:\n",
        "        # Open the uploaded file using rasterio\n",
        "        with rasterio.open(tiff_file.name) as src:\n",
        "            # Check if the image has the required number of bands (at least 7)\n",
        "            if src.count < 7:\n",
        "                raise gr.Error(f\"Input image has only {src.count} bands, but at least 7 are required.\")\n",
        "\n",
        "            # Read bands 7, 3, and 2. Rasterio bands are 1-indexed.\n",
        "            # These are mapped to the Red, Green, and Blue channels of the output image.\n",
        "            red = src.read(7)    # SWIR 2\n",
        "            green = src.read(3)  # Green\n",
        "            blue = src.read(2)   # Blue\n",
        "\n",
        "            # Stack the bands into a 3D array (height, width, channels)\n",
        "            false_color_composite = np.dstack((red, green, blue))\n",
        "\n",
        "            # Normalize the image to the 0-255 range for display.\n",
        "            min_val = false_color_composite.min()\n",
        "            max_val = false_color_composite.max()\n",
        "\n",
        "            # Avoid division by zero if the image data is flat\n",
        "            if max_val == min_val:\n",
        "                return np.zeros_like(false_color_composite, dtype=np.uint8)\n",
        "\n",
        "            # Perform normalization and scale to 8-bit integer range [0, 255]\n",
        "            normalized = (false_color_composite - min_val) / (max_val - min_val)\n",
        "            image_uint8 = (normalized * 255).astype(np.uint8)\n",
        "\n",
        "            return image_uint8\n",
        "\n",
        "    except RasterioIOError:\n",
        "        raise gr.Error(\"Failed to read the file. Please ensure it's a valid GeoTIFF file.\")\n",
        "    except Exception as e:\n",
        "        raise gr.Error(f\"An unexpected error occurred: {e}\")\n",
        "\n",
        "# --- Gradio Interface ---\n",
        "iface = gr.Interface(\n",
        "    fn=create_false_color_composite,\n",
        "    inputs=gr.File(label=\"Upload Satellite TIFF Image\"),\n",
        "    outputs=gr.Image(type=\"numpy\", label=\"False-Color Composite (Bands 7-3-2)\"),\n",
        "    title=\"🛰️ Satellite False-Color Composite Generator\",\n",
        "    description=\"Upload a multi-band satellite image (e.g., Landsat 8/9) in TIFF format. \"\n",
        "                \"This tool generates a false-color composite using bands 7 (SWIR 2), 3 (Green), and 2 (Blue).\",\n",
        "    article=\"<p style='text-align: center;'>This band combination is often used for geology and soil analysis. \"\n",
        "            \"In this view, urban areas typically appear purple, vegetation is green/brown, and water is dark blue/black.</p>\",\n",
        "    allow_flagging=\"never\"\n",
        ")\n",
        "\n",
        "if __name__ == \"__main__\":\n",
        "    iface.launch()"
      ],
      "metadata": {
        "colab": {
          "base_uri": "https://localhost:8080/",
          "height": 680
        },
        "id": "vsxQ2Y8lEvGX",
        "outputId": "4a78893e-218d-4d8b-9196-57d98ff4113a"
      },
      "execution_count": 2,
      "outputs": [
        {
          "output_type": "stream",
          "name": "stderr",
          "text": [
            "/usr/local/lib/python3.11/dist-packages/gradio/interface.py:416: UserWarning: The `allow_flagging` parameter in `Interface` is deprecated.Use `flagging_mode` instead.\n",
            "  warnings.warn(\n"
          ]
        },
        {
          "output_type": "stream",
          "name": "stdout",
          "text": [
            "It looks like you are running Gradio on a hosted a Jupyter notebook. For the Gradio app to work, sharing must be enabled. Automatically setting `share=True` (you can turn this off by setting `share=False` in `launch()` explicitly).\n",
            "\n",
            "Colab notebook detected. To show errors in colab notebook, set debug=True in launch()\n",
            "* Running on public URL: https://d4c16db8320c15a3c7.gradio.live\n",
            "\n",
            "This share link expires in 1 week. For free permanent hosting and GPU upgrades, run `gradio deploy` from the terminal in the working directory to deploy to Hugging Face Spaces (https://huggingface.co/spaces)\n"
          ]
        },
        {
          "output_type": "display_data",
          "data": {
            "text/plain": [
              "<IPython.core.display.HTML object>"
            ],
            "text/html": [
              "<div><iframe src=\"https://d4c16db8320c15a3c7.gradio.live\" width=\"100%\" height=\"500\" allow=\"autoplay; camera; microphone; clipboard-read; clipboard-write;\" frameborder=\"0\" allowfullscreen></iframe></div>"
            ]
          },
          "metadata": {}
        }
      ]
    },
    {
      "cell_type": "code",
      "source": [
        "import gradio as gr\n",
        "import numpy as np\n",
        "import rasterio\n",
        "from rasterio.errors import RasterioIOError\n",
        "\n",
        "def highlight_water_bodies(tiff_file: object, ndwi_threshold: float) -> np.ndarray:\n",
        "    \"\"\"\n",
        "    Identifies water bodies in a satellite image using the Normalized Difference\n",
        "    Water Index (NDWI) and highlights them on a natural color background.\n",
        "\n",
        "    This function requires bands for Red, Green, Blue, and Near-Infrared (NIR).\n",
        "    For Landsat 8/9, these are bands 4, 3, 2, and 5, respectively.\n",
        "\n",
        "    Args:\n",
        "        tiff_file: A file object from the Gradio interface.\n",
        "        ndwi_threshold: A float value (typically 0.0 to 0.3) used as a\n",
        "                        cutoff to classify pixels as water.\n",
        "\n",
        "    Returns:\n",
        "        A NumPy array representing the image with water bodies highlighted in blue.\n",
        "\n",
        "    Raises:\n",
        "        gr.Error: If the file is invalid or doesn't have the required bands.\n",
        "    \"\"\"\n",
        "    if tiff_file is None:\n",
        "        raise gr.Error(\"Please upload a TIFF file.\")\n",
        "\n",
        "    try:\n",
        "        with rasterio.open(tiff_file.name) as src:\n",
        "            # Check if the image has enough bands for NDWI and Natural Color\n",
        "            # We need Blue (2), Green (3), Red (4), and NIR (5) for Landsat 8/9\n",
        "            if src.count < 5:\n",
        "                raise gr.Error(f\"Input image has only {src.count} bands. \"\n",
        "                             \"At least 5 bands are required for this analysis.\")\n",
        "\n",
        "            # --- Read Bands ---\n",
        "            # For Natural Color background (Red, Green, Blue)\n",
        "            red = src.read(4).astype(np.float32)\n",
        "            green = src.read(3).astype(np.float32)\n",
        "            blue = src.read(2).astype(np.float32)\n",
        "\n",
        "            # For NDWI calculation (Green, NIR)\n",
        "            nir = src.read(5).astype(np.float32)\n",
        "\n",
        "            # --- Calculate NDWI ---\n",
        "            # NDWI = (Green - NIR) / (Green + NIR)\n",
        "            # Suppress warnings for division by zero and handle it by outputting 0\n",
        "            denominator = np.add(green, nir)\n",
        "            ndwi = np.divide(green - nir, denominator,\n",
        "                             out=np.zeros_like(denominator, dtype=np.float32),\n",
        "                             where=(denominator != 0))\n",
        "\n",
        "            # Create a boolean mask for water based on the threshold\n",
        "            water_mask = ndwi > ndwi_threshold\n",
        "\n",
        "            # --- Create Visualization ---\n",
        "            # Function to stretch each band to its 2nd and 98th percentile for better contrast\n",
        "            def normalize_band(band):\n",
        "                p2, p98 = np.percentile(band[band > 0], (2, 98)) # Use non-zero values for stats\n",
        "                # Clip values to the percentile range\n",
        "                stretched = np.clip(band, p2, p98)\n",
        "                # Scale to 0-1 range\n",
        "                scaled = (stretched - p2) / (p98 - p2)\n",
        "                return scaled\n",
        "\n",
        "            # Create a 3-band natural color image\n",
        "            natural_color_image = np.dstack((normalize_band(red),\n",
        "                                             normalize_band(green),\n",
        "                                             normalize_band(blue)))\n",
        "\n",
        "            # Convert to 8-bit for display\n",
        "            background_image = (natural_color_image * 255).astype(np.uint8)\n",
        "\n",
        "            # Apply the water mask, coloring water pixels bright blue\n",
        "            # This creates a copy of the array to avoid changing the original\n",
        "            output_image = background_image.copy()\n",
        "            output_image[water_mask] = [60, 130, 255] # A distinct shade of blue\n",
        "\n",
        "            return output_image\n",
        "\n",
        "    except RasterioIOError:\n",
        "        raise gr.Error(\"Failed to read the file. Please ensure it's a valid GeoTIFF file.\")\n",
        "    except Exception as e:\n",
        "        raise gr.Error(f\"An unexpected error occurred: {e}\")\n",
        "\n",
        "# --- Gradio Interface ---\n",
        "iface = gr.Interface(\n",
        "    fn=highlight_water_bodies,\n",
        "    inputs=[\n",
        "        gr.File(label=\"Upload Satellite TIFF Image\"),\n",
        "        gr.Slider(minimum=-0.5, maximum=0.8, value=0.2, step=0.05,\n",
        "                  label=\"NDWI Threshold\",\n",
        "                  info=\"Adjust to fine-tune water detection. Higher values are more strict.\")\n",
        "    ],\n",
        "    outputs=gr.Image(type=\"numpy\", label=\"Water Bodies Highlighted\"),\n",
        "    title=\"💧 Water Body Detection from Satellite Imagery\",\n",
        "    description=\"Upload a multi-band satellite image (e.g., Landsat 8/9) to identify and highlight water bodies. \"\n",
        "                \"The tool uses the Normalized Difference Water Index (NDWI).\",\n",
        "    article=\"<p style='text-align: center;'>The analysis uses a natural color image as a background and overlays water bodies (lakes, rivers, coasts) in bright blue. \"\n",
        "            \"The <b>NDWI Threshold</b> can be adjusted to reduce noise from shadows or include turbid water.</p>\",\n",
        "    allow_flagging=\"never\"\n",
        ")\n",
        "\n",
        "if __name__ == \"__main__\":\n",
        "    iface.launch()"
      ],
      "metadata": {
        "colab": {
          "base_uri": "https://localhost:8080/",
          "height": 680
        },
        "id": "DnKu-OavGW4F",
        "outputId": "b7dfe72e-a998-46fc-c6d2-a0ef8f21bf78"
      },
      "execution_count": 3,
      "outputs": [
        {
          "output_type": "stream",
          "name": "stderr",
          "text": [
            "/usr/local/lib/python3.11/dist-packages/gradio/interface.py:416: UserWarning: The `allow_flagging` parameter in `Interface` is deprecated.Use `flagging_mode` instead.\n",
            "  warnings.warn(\n"
          ]
        },
        {
          "output_type": "stream",
          "name": "stdout",
          "text": [
            "It looks like you are running Gradio on a hosted a Jupyter notebook. For the Gradio app to work, sharing must be enabled. Automatically setting `share=True` (you can turn this off by setting `share=False` in `launch()` explicitly).\n",
            "\n",
            "Colab notebook detected. To show errors in colab notebook, set debug=True in launch()\n",
            "* Running on public URL: https://33f0b15db0b84c9554.gradio.live\n",
            "\n",
            "This share link expires in 1 week. For free permanent hosting and GPU upgrades, run `gradio deploy` from the terminal in the working directory to deploy to Hugging Face Spaces (https://huggingface.co/spaces)\n"
          ]
        },
        {
          "output_type": "display_data",
          "data": {
            "text/plain": [
              "<IPython.core.display.HTML object>"
            ],
            "text/html": [
              "<div><iframe src=\"https://33f0b15db0b84c9554.gradio.live\" width=\"100%\" height=\"500\" allow=\"autoplay; camera; microphone; clipboard-read; clipboard-write;\" frameborder=\"0\" allowfullscreen></iframe></div>"
            ]
          },
          "metadata": {}
        }
      ]
    }
  ]
}